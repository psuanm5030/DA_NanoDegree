{
 "cells": [
  {
   "cell_type": "markdown",
   "metadata": {},
   "source": [
    "## P1: Test a Perceptual Phenomenon\n",
    "### Student: Andy Miller\n",
    "#### October 21st 2015"
   ]
  },
  {
   "cell_type": "code",
   "execution_count": 2,
   "metadata": {
    "collapsed": false
   },
   "outputs": [
    {
     "data": {
      "text/html": [
       "<div>\n",
       "<table border=\"1\" class=\"dataframe\">\n",
       "  <thead>\n",
       "    <tr style=\"text-align: right;\">\n",
       "      <th></th>\n",
       "      <th>Congruent</th>\n",
       "      <th>Incongruent</th>\n",
       "    </tr>\n",
       "  </thead>\n",
       "  <tbody>\n",
       "    <tr>\n",
       "      <th>0</th>\n",
       "      <td>12.079</td>\n",
       "      <td>19.278</td>\n",
       "    </tr>\n",
       "    <tr>\n",
       "      <th>1</th>\n",
       "      <td>16.791</td>\n",
       "      <td>18.741</td>\n",
       "    </tr>\n",
       "    <tr>\n",
       "      <th>2</th>\n",
       "      <td>9.564</td>\n",
       "      <td>21.214</td>\n",
       "    </tr>\n",
       "    <tr>\n",
       "      <th>3</th>\n",
       "      <td>8.630</td>\n",
       "      <td>15.687</td>\n",
       "    </tr>\n",
       "    <tr>\n",
       "      <th>4</th>\n",
       "      <td>14.669</td>\n",
       "      <td>22.803</td>\n",
       "    </tr>\n",
       "  </tbody>\n",
       "</table>\n",
       "</div>"
      ],
      "text/plain": [
       "   Congruent  Incongruent\n",
       "0     12.079       19.278\n",
       "1     16.791       18.741\n",
       "2      9.564       21.214\n",
       "3      8.630       15.687\n",
       "4     14.669       22.803"
      ]
     },
     "execution_count": 2,
     "metadata": {},
     "output_type": "execute_result"
    }
   ],
   "source": [
    "# Setup and Import Commands\n",
    "# Render the plots inline\n",
    "%matplotlib inline\n",
    "\n",
    "import pandas as pd\n",
    "import matplotlib.pyplot as plt\n",
    "from scipy import stats\n",
    "\n",
    "pd.set_option('display.mpl_style', 'default') # Make the graphs a bit prettier\n",
    "plt.rcParams['figure.figsize'] = (15, 5)\n",
    "\n",
    "# Import the data from the provided CSV File\n",
    "df = pd.read_csv('/Users/Miller/GitHub/GhNanoDegree/Projects/P1_Test_a_Perceptual_Phenomenon/Files/P1_stroopdata.csv')\n",
    "df.head()"
   ]
  },
  {
   "cell_type": "markdown",
   "metadata": {},
   "source": [
    "#### Question 1. What is our independent variable? What is our dependent variable?\n",
    "\n",
    "The independent variable is the type of condition being tested (two conditions: 1) congruent words, and 2) incongruent words). \n",
    "\n",
    "The dependent variable is the time it takes to name the ink colors (from equally-sized lists)."
   ]
  },
  {
   "cell_type": "markdown",
   "metadata": {},
   "source": [
    "#### Question 2. What is an appropriate set of hypotheses for this task? What kind of statistical test do you expect to perform? Justify your choices.\n",
    "The hypotheses for this task would be to determine whether two data sets (one for each condition) are significantly different from each other.  More formally: \n",
    "- The Null hypothesis is that the population means are equal between the two conditions (as inferred from the sample data for the two tests);\n",
    "- The Alternative hypothesis is that the population means are NOT equal between the two conditions (as inferred from the sample data for the two tests).\n",
    "\n",
    "I expect to utilize a two-tailed dependent samples (paired-samples) t-test to understand whether there are any statistically significant differences between the means of the two conditions.  I choose this test because we have two conditions with values from the same subject.  An advantage of this test is that it controls for individual differences, however it should be noted that a disadvantage is the carry-over effects for the subject, meaning the second measurement can be affected by the first condition (e.g., the user may have gotten better at reading words just because they were more adept at the task after the first condition).  In addition, and as a precursor to the t-test, I plan to perform a variety of centrality and variability measurements to understand the sample data."
   ]
  },
  {
   "cell_type": "markdown",
   "metadata": {},
   "source": [
    "#### Question 3. Report some descriptive statistics regarding this dataset. Include at least one measure of central tendency and at least one measure of variability.\n",
    "\n",
    "Upon reviewing the data (refer to P1_Stroop_Review.PDF), I am reporting the following descriptive statistics regarding this sample data: \n",
    "1. The two conditions' means, for congruent and incongruent, have sample means of 14.05 and 22.02, respectively.  That is a difference of -7.96.  On average, the congruent condition has a lower time to name the colors for subjects.  The median values are very close to their mean, meaning there are likely few outliers in the distribution.\n",
    "2. The two conditions' standard errors (standard deviation of the samples), for congruent and incongruent, have standard errors of 3.56 and 4.8, respectively.  The values for the incongruent condition sample have a greater variability, meaning that the values in the incongruent sample, vary more significantly from the mean, than the congruent sample.\n",
    "\n",
    "Below I have performed these calculations within the notebook:"
   ]
  },
  {
   "cell_type": "code",
   "execution_count": 123,
   "metadata": {
    "collapsed": false
   },
   "outputs": [
    {
     "name": "stdout",
     "output_type": "stream",
     "text": [
      "Congruent Mean:  14.05\n",
      "Incongruent Mean:  22.02\n",
      "Congruent Median:  14.36\n",
      "Incongruent Median:  21.02\n",
      "Congruent Standard Error:  3.56\n",
      "Incongruent Standard Error:  4.8\n"
     ]
    }
   ],
   "source": [
    "print 'Congruent Mean: ', round(df['Congruent'].mean(),2)\n",
    "print 'Incongruent Mean: ',round(df['Incongruent'].mean(),2) \n",
    "print 'Congruent Median: ', round(df['Congruent'].median(),2) \n",
    "print 'Incongruent Median: ',round(df['Incongruent'].median(),2) \n",
    "print 'Congruent Standard Error: ', round(df['Congruent'].std(),2) \n",
    "print 'Incongruent Standard Error: ',round(df['Incongruent'].std(),2)"
   ]
  },
  {
   "cell_type": "markdown",
   "metadata": {},
   "source": [
    "#### Question 4. Provide one or two visualizations that show the distribution of the sample data. Write one or two sentences noting what you observe about the plot or plots.\n",
    "\n",
    "Below I am providing a few different views of the data.  \n",
    "1. A histogram for each condition (congruent and incongruent) which shows the distribution of the values.\n",
    "2. A scatter plot of the values, with dots representing the intersection of the subjects congruent and incongruent results."
   ]
  },
  {
   "cell_type": "markdown",
   "metadata": {},
   "source": [
    "1 - Histogram (Congruent) - Below\n",
    "- As you can see, the subjects are completing the test between 10 and 19 seconds, right around the mean of 14 seconds."
   ]
  },
  {
   "cell_type": "code",
   "execution_count": 121,
   "metadata": {
    "collapsed": false
   },
   "outputs": [
    {
     "data": {
      "image/png": "[encoded data removed]",
      "text/plain": [
       "<matplotlib.figure.Figure at 0x1117a4a10>"
      ]
     },
     "metadata": {},
     "output_type": "display_data"
    }
   ],
   "source": [
    "df['Congruent'].plot(kind='hist', alpha = .5, bins = [0,10,13,16,19,22,25,28,31,34,37,40], title =\"Congruent Condition\");"
   ]
  },
  {
   "cell_type": "markdown",
   "metadata": {},
   "source": [
    "1 - Histogram (Incongruent) - Below\n",
    "- As you can see, the subjects are completing the test right around 16 to 25 seconds, right around the mean of 22 seconds, an increase over the congruent data above."
   ]
  },
  {
   "cell_type": "code",
   "execution_count": 122,
   "metadata": {
    "collapsed": false
   },
   "outputs": [
    {
     "data": {
      "image/png": "[encoded data removed]",
      "text/plain": [
       "<matplotlib.figure.Figure at 0x1115af390>"
      ]
     },
     "metadata": {},
     "output_type": "display_data"
    }
   ],
   "source": [
    "df['Incongruent'].plot(kind='hist', alpha = .5, bins = [0,10,13,16,19,22,25,28,31,34,37,40],title =\"Incongruent Condition\");"
   ]
  },
  {
   "cell_type": "markdown",
   "metadata": {},
   "source": [
    "2 - Scatter Plot (Both Conditions) - Below\n",
    "The dots represent the intersection of the subjects congruent (x-axis) and incongruent (y-axis) samples, with the bubble size gaining size in relation to their incongruent condition result.  \n",
    "\n",
    "There is a linear relationship, whereby the subjects produce a larger incongruent score as they increase the congruent score increases.  This makes sense, as we believe that incongruent results are typically greater than the congruent results."
   ]
  },
  {
   "cell_type": "code",
   "execution_count": 125,
   "metadata": {
    "collapsed": false
   },
   "outputs": [
    {
     "data": {
      "text/plain": [
       "(5, 40)"
      ]
     },
     "execution_count": 125,
     "metadata": {},
     "output_type": "execute_result"
    },
    {
     "data": {
      "image/png": "[encoded data removed]",
      "text/plain": [
       "<matplotlib.figure.Figure at 0x11086cf10>"
      ]
     },
     "metadata": {},
     "output_type": "display_data"
    }
   ],
   "source": [
    "df.plot(kind='scatter', x = 'Congruent', y = 'Incongruent', color = 'DarkBlue', s=df['Incongruent']*5);\n",
    "plt.xlim(5,40); plt.ylim(5,40)"
   ]
  },
  {
   "cell_type": "markdown",
   "metadata": {},
   "source": [
    "#### Question 5. Now, perform the statistical test and report your results. What is your confidence level and your critical statistic value? Do you reject the null hypothesis or fail to reject it? Come to a conclusion in terms of the experiment task. Did the results match up with your expectations?"
   ]
  },
  {
   "cell_type": "markdown",
   "metadata": {},
   "source": [
    "In addition to the PDF (refer to P1_Stroop_Review.PDF) that I have uploaded, which shows the calculations (which were done in an excel workbook), I have performed the dependent samples t-test below."
   ]
  },
  {
   "cell_type": "code",
   "execution_count": 127,
   "metadata": {
    "collapsed": false
   },
   "outputs": [
    {
     "name": "stdout",
     "output_type": "stream",
     "text": [
      "t-Statistic:  -8.02070694411\n",
      "p-Value:  4.10300058571e-08\n"
     ]
    }
   ],
   "source": [
    "# Perform the Depedent Samples t-Test, which returns the t-statistic and the p-value.\n",
    "ttest_results = stats.ttest_rel(df['Congruent'],df['Incongruent'])\n",
    "(t_stat,p_value) = (ttest_results)\n",
    "print \"t-Statistic: \",t_stat\n",
    "print \"p-Value: \", p_value"
   ]
  },
  {
   "cell_type": "markdown",
   "metadata": {},
   "source": [
    "My t-critical value is +-2.0687 at an alpha level of .05 (using 23 degrees of freedom).  \n",
    "My confidence levels are: Upper: -5.9105, Lower: -10.01907 - This allows us to conclude that subjects will perform the congruent condition test between 5.9 and 10 seconds faster than the incongruent condition.\n",
    "\n",
    "Overall, the results are statistically significant at alpha .05, as the t-statistic value of -8.02 is far less than the t-critical value of -2.0687, out in the critical region.  The p-value suggests the obtaining these observed sample results by chance is extremely unlikely (on the order of a .000004103% chance).  I would reject the null hypothesis.  This means that the values from the congurent test were signficantly less than the incongruent sample. "
   ]
  },
  {
   "cell_type": "markdown",
   "metadata": {},
   "source": [
    "#### Question 6. Optional: What do you think is responsible for the effects observed? Can you think of an alternative or similar task that would result in a similar effect? Some research about the problem will be helpful for thinking about these two questions!"
   ]
  },
  {
   "cell_type": "markdown",
   "metadata": {},
   "source": [
    "I think that the brain has a more difficult time processing the incongruent condition.  One reason is simply because the brain has been conditioned to read WORDS, not the color words are printed in.  However, I think that this is something that could improve drastically over time.  If a human were to practice reading the color of the word instead of the word, I believe they would improve in the incongruent condition test over time.  From reading about the Stroop Effect, I understand that these conditions demonstrate the interference in the reaction time of a task, as one of the theories states that \"there is a lag in the brain's ability to recognize the color of the word since the brain reads words faster than it recognizes colors.  This is based on the idea that word processing is significantly faster than color processing.\" (http://www.wisegeek.org/what-is-the-stroop-effect.htm).\n",
    "\n",
    "I think there are many tasks that would result in a similar effect, one such example would be to count the number of words in a box, with the first test condition showing common words (e.g., dog, cat, hat) and the second test condition showing words of numbers (e.g., one, two, three).  "
   ]
  }
 ],
 "metadata": {
  "kernelspec": {
   "display_name": "Python 2",
   "language": "python",
   "name": "python2"
  },
  "language_info": {
   "codemirror_mode": {
    "name": "ipython",
    "version": 2
   },
   "file_extension": ".py",
   "mimetype": "text/x-python",
   "name": "python",
   "nbconvert_exporter": "python",
   "pygments_lexer": "ipython2",
   "version": "2.7.11"
  }
 },
 "nbformat": 4,
 "nbformat_minor": 0
}
